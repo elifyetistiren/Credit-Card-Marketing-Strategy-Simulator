{
 "cells": [
  {
   "cell_type": "markdown",
   "id": "af2baef8",
   "metadata": {},
   "source": [
    "# Credit Card Marketing Campaign Simulation\n",
    "This notebook simulates a targeted campaign using customer segmentation, A/B testing, and ROI analysis."
   ]
  },
  {
   "cell_type": "code",
   "execution_count": 2,
   "id": "73d0a1b5",
   "metadata": {},
   "outputs": [
    {
     "name": "stdout",
     "output_type": "stream",
     "text": [
      "Requirement already satisfied: ucimlrepo in c:\\users\\amand\\anaconda3\\lib\\site-packages (0.0.7)\n",
      "Requirement already satisfied: scikit-learn in c:\\users\\amand\\anaconda3\\lib\\site-packages (1.5.1)\n",
      "Requirement already satisfied: matplotlib in c:\\users\\amand\\anaconda3\\lib\\site-packages (3.9.2)\n",
      "Requirement already satisfied: pandas in c:\\users\\amand\\anaconda3\\lib\\site-packages (2.2.2)\n",
      "Requirement already satisfied: certifi>=2020.12.5 in c:\\users\\amand\\anaconda3\\lib\\site-packages (from ucimlrepo) (2025.1.31)\n",
      "Requirement already satisfied: numpy>=1.19.5 in c:\\users\\amand\\anaconda3\\lib\\site-packages (from scikit-learn) (1.26.4)\n",
      "Requirement already satisfied: scipy>=1.6.0 in c:\\users\\amand\\anaconda3\\lib\\site-packages (from scikit-learn) (1.13.1)\n",
      "Requirement already satisfied: joblib>=1.2.0 in c:\\users\\amand\\anaconda3\\lib\\site-packages (from scikit-learn) (1.4.2)\n",
      "Requirement already satisfied: threadpoolctl>=3.1.0 in c:\\users\\amand\\anaconda3\\lib\\site-packages (from scikit-learn) (3.5.0)\n",
      "Requirement already satisfied: contourpy>=1.0.1 in c:\\users\\amand\\anaconda3\\lib\\site-packages (from matplotlib) (1.2.0)\n",
      "Requirement already satisfied: cycler>=0.10 in c:\\users\\amand\\anaconda3\\lib\\site-packages (from matplotlib) (0.11.0)\n",
      "Requirement already satisfied: fonttools>=4.22.0 in c:\\users\\amand\\anaconda3\\lib\\site-packages (from matplotlib) (4.51.0)\n",
      "Requirement already satisfied: kiwisolver>=1.3.1 in c:\\users\\amand\\anaconda3\\lib\\site-packages (from matplotlib) (1.4.4)\n",
      "Requirement already satisfied: packaging>=20.0 in c:\\users\\amand\\anaconda3\\lib\\site-packages (from matplotlib) (24.1)\n",
      "Requirement already satisfied: pillow>=8 in c:\\users\\amand\\anaconda3\\lib\\site-packages (from matplotlib) (10.4.0)\n",
      "Requirement already satisfied: pyparsing>=2.3.1 in c:\\users\\amand\\anaconda3\\lib\\site-packages (from matplotlib) (3.1.2)\n",
      "Requirement already satisfied: python-dateutil>=2.7 in c:\\users\\amand\\anaconda3\\lib\\site-packages (from matplotlib) (2.9.0.post0)\n",
      "Requirement already satisfied: pytz>=2020.1 in c:\\users\\amand\\anaconda3\\lib\\site-packages (from pandas) (2024.1)\n",
      "Requirement already satisfied: tzdata>=2022.7 in c:\\users\\amand\\anaconda3\\lib\\site-packages (from pandas) (2023.3)\n",
      "Requirement already satisfied: six>=1.5 in c:\\users\\amand\\anaconda3\\lib\\site-packages (from python-dateutil>=2.7->matplotlib) (1.16.0)\n",
      "Note: you may need to restart the kernel to use updated packages.\n"
     ]
    }
   ],
   "source": [
    "pip install ucimlrepo scikit-learn matplotlib pandas"
   ]
  },
  {
   "cell_type": "code",
   "execution_count": 3,
   "id": "144b58a9",
   "metadata": {},
   "outputs": [],
   "source": [
    "from ucimlrepo import fetch_ucirepo\n",
    "from sklearn.preprocessing import StandardScaler\n",
    "from sklearn.cluster import KMeans\n",
    "import pandas as pd\n",
    "import numpy as np\n",
    "import matplotlib.pyplot as plt"
   ]
  },
  {
   "cell_type": "code",
   "execution_count": 4,
   "id": "028e7177",
   "metadata": {},
   "outputs": [],
   "source": [
    "# Load dataset\n",
    "bank_marketing = fetch_ucirepo(id=222)\n",
    "X = bank_marketing.data.features\n",
    "y = bank_marketing.data.targets\n",
    "df = pd.concat([X, y], axis=1)"
   ]
  },
  {
   "cell_type": "code",
   "execution_count": 5,
   "id": "54eb2fa3",
   "metadata": {},
   "outputs": [
    {
     "name": "stderr",
     "output_type": "stream",
     "text": [
      "C:\\Users\\amand\\anaconda3\\Lib\\site-packages\\joblib\\externals\\loky\\backend\\context.py:136: UserWarning: Could not find the number of physical cores for the following reason:\n",
      "[WinError 2] The system cannot find the file specified\n",
      "Returning the number of logical cores instead. You can silence this warning by setting LOKY_MAX_CPU_COUNT to the number of cores you want to use.\n",
      "  warnings.warn(\n",
      "  File \"C:\\Users\\amand\\anaconda3\\Lib\\site-packages\\joblib\\externals\\loky\\backend\\context.py\", line 257, in _count_physical_cores\n",
      "    cpu_info = subprocess.run(\n",
      "               ^^^^^^^^^^^^^^^\n",
      "  File \"C:\\Users\\amand\\anaconda3\\Lib\\subprocess.py\", line 548, in run\n",
      "    with Popen(*popenargs, **kwargs) as process:\n",
      "         ^^^^^^^^^^^^^^^^^^^^^^^^^^^\n",
      "  File \"C:\\Users\\amand\\anaconda3\\Lib\\subprocess.py\", line 1026, in __init__\n",
      "    self._execute_child(args, executable, preexec_fn, close_fds,\n",
      "  File \"C:\\Users\\amand\\anaconda3\\Lib\\subprocess.py\", line 1538, in _execute_child\n",
      "    hp, ht, pid, tid = _winapi.CreateProcess(executable, args,\n",
      "                       ^^^^^^^^^^^^^^^^^^^^^^^^^^^^^^^^^^^^^^^\n"
     ]
    }
   ],
   "source": [
    "# Clustering\n",
    "cluster_features = df[['age', 'balance', 'duration', 'campaign']].copy()\n",
    "scaler = StandardScaler()\n",
    "scaled_features = scaler.fit_transform(cluster_features)\n",
    "kmeans = KMeans(n_clusters=4, random_state=42)\n",
    "df['segment'] = kmeans.fit_predict(scaled_features)"
   ]
  },
  {
   "cell_type": "code",
   "execution_count": null,
   "id": "f6cf441e",
   "metadata": {},
   "outputs": [],
   "source": [
    "# A/B Test Simulation\n",
    "np.random.seed(42)\n",
    "df['group'] = np.random.choice(['A', 'B'], size=len(df), p=[0.5, 0.5])\n",
    "df['converted'] = df.apply(lambda row: np.random.rand() < 0.02 if row['group'] == 'A' else np.random.rand() < 0.05, axis=1)\n",
    "df['spend'] = df['converted'].apply(lambda x: np.random.normal(1000, 300) if x else 0)"
   ]
  },
  {
   "cell_type": "code",
   "execution_count": null,
   "id": "eeedb3e2",
   "metadata": {},
   "outputs": [],
   "source": [
    "# Summary statistics\n",
    "summary = df.groupby(['group'])[['converted', 'spend']].agg(\n",
    "    conversion_rate=('converted', 'mean'),\n",
    "    avg_spend=('spend', lambda x: x[x > 0].mean()),\n",
    "    total_conversions=('converted', 'sum'),\n",
    "    total_revenue=('spend', 'sum')\n",
    ").reset_index()\n",
    "summary"
   ]
  },
  {
   "cell_type": "code",
   "execution_count": null,
   "id": "c57dd639",
   "metadata": {},
   "outputs": [],
   "source": [
    "# ROI and lift analysis\n",
    "cost_per_person = 2\n",
    "group_a = summary[summary['group'] == 'A']\n",
    "group_b = summary[summary['group'] == 'B']\n",
    "\n",
    "conv_rate_a = group_a['conversion_rate'].values[0]\n",
    "conv_rate_b = group_b['conversion_rate'].values[0]\n",
    "revenue_a = group_a['total_revenue'].values[0]\n",
    "revenue_b = group_b['total_revenue'].values[0]\n",
    "avg_spend_a = group_a['avg_spend'].values[0]\n",
    "\n",
    "n_a = df[df['group'] == 'A'].shape[0]\n",
    "n_b = df[df['group'] == 'B'].shape[0]\n",
    "\n",
    "conversion_lift = conv_rate_b - conv_rate_a\n",
    "revenue_lift = revenue_b - revenue_a\n",
    "campaign_cost = n_b * cost_per_person\n",
    "expected_revenue_b = conv_rate_a * n_b * avg_spend_a\n",
    "incremental_revenue = revenue_b - expected_revenue_b\n",
    "roi = incremental_revenue / campaign_cost\n",
    "\n",
    "print(\"--- Campaign Performance Summary ---\")\n",
    "print(f\"Conversion Rate A (Control): {conv_rate_a:.2%}\")\n",
    "print(f\"Conversion Rate B (Treatment): {conv_rate_b:.2%}\")\n",
    "print(f\"Conversion Lift: {conversion_lift:.2%}\")\n",
    "print(f\"Revenue Lift: ${revenue_lift:,.2f}\")\n",
    "print(f\"Campaign Cost: ${campaign_cost:,.2f}\")\n",
    "print(f\"Incremental Revenue: ${incremental_revenue:,.2f}\")\n",
    "print(f\"ROI: {roi:.2f}\")"
   ]
  }
 ],
 "metadata": {
  "kernelspec": {
   "display_name": "Python [conda env:base] *",
   "language": "python",
   "name": "conda-base-py"
  },
  "language_info": {
   "codemirror_mode": {
    "name": "ipython",
    "version": 3
   },
   "file_extension": ".py",
   "mimetype": "text/x-python",
   "name": "python",
   "nbconvert_exporter": "python",
   "pygments_lexer": "ipython3",
   "version": "3.12.7"
  }
 },
 "nbformat": 4,
 "nbformat_minor": 5
}
